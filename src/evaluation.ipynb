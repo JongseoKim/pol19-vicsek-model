{
 "cells": [
  {
   "cell_type": "markdown",
   "metadata": {},
   "source": [
    "ToDo:\n",
    "- arrows for direction of movement\n",
    "- heat bar plotted next to movie with angle explanation\n",
    "- delete np.abs in for x and y data in the scatter plot --> just fixed the negative values in the output file of c++ code"
   ]
  },
  {
   "cell_type": "code",
   "execution_count": 1,
   "metadata": {},
   "outputs": [],
   "source": [
    "#read files in the \"output\" folder and generate movie and diagrams to each output file in the folder \"evaluation\"\n",
    "\n",
    "#import packages\n",
    "import os\n",
    "import numpy as np\n",
    "import matplotlib.pyplot as plt\n",
    "import matplotlib.animation as anim\n",
    "import matplotlib.cm as cm\n",
    "from mpl_toolkits.axes_grid1 import make_axes_locatable"
   ]
  },
  {
   "cell_type": "code",
   "execution_count": 2,
   "metadata": {},
   "outputs": [],
   "source": [
    "#change to current directory\n",
    "path = \"../output/\"\n",
    "\n",
    "pathdata = \"out_agntno_300_noistr_1.000000.txt\"\n",
    "time, agent_index, position_x, position_y, angles = np.loadtxt(path+pathdata,float,skiprows=9,unpack=True)"
   ]
  },
  {
   "cell_type": "code",
   "execution_count": null,
   "metadata": {},
   "outputs": [],
   "source": [
    "#extract input parameters from the txt file\n",
    "lines = np.loadtxt(path+pathdata, dtype=str, skiprows=1, max_rows=8, unpack = True)\n",
    "for l in lines:\n",
    "    exec(l)\n",
    "\n",
    "#rename agent_number as N\n",
    "N = agent_number\n",
    "\n",
    "#movie\n",
    "fig = plt.figure()\n",
    "positions = plt.scatter(position_x[0:N],position_y[0:N],c=cm.jet(angles[0:N]/(2*np.pi)))\n",
    "plt.title(\"N = {}, velocity = {}, noise = {}, radius = {}\".format(N,velocity,noise_strength,neighborhood_radius))\n",
    "text = plt.text(0,-2,\"Time: 0\")\n",
    "\n",
    "#update function for movie\n",
    "def update(i,positions,text):\n",
    "    #update(time, any further things which should be updated in animation)\n",
    "    positions.set_offsets(np.transpose([position_x[i*N:(i+1)*N],position_y[i*N:(i+1)*N]]))\n",
    "    positions.set_color(c=cm.jet(angles[i*N:(i+1)*N]/(2*np.pi)))\n",
    "    text.set_text(\"Time: {:.1f}\".format(time[i*N]))\n",
    "    return positions,text\n",
    "\n",
    "#generate a movie\n",
    "animation = anim.FuncAnimation(fig,update,np.size(time)//N,fargs=(positions,text),interval=100,blit=False,repeat=False)\n",
    "\n",
    "#for MP4 files\n",
    "Writer = anim.FFMpegWriter(fps=10, bitrate=1800)\n",
    "plt.rcParams[\"animation.ffmpeg_path\"] = \"C:/Users/moniq/Dropbox/MA_1/MA_2_Physics-of-Life/project/evaluation/FFmpeg/bin/ffmpeg.exe\"\n",
    "\n",
    "#save movie\n",
    "animation.save(pathdata+\".mp4\", writer=Writer)\n",
    "plt.show()"
   ]
  },
  {
   "cell_type": "code",
   "execution_count": null,
   "metadata": {},
   "outputs": [],
   "source": [
    "#calculations\n",
    "polarisation = []\n",
    "meanangle = []\n",
    "\n",
    "for i in range (np.size(time)//N):\n",
    "    theta = angles[i*N:(i+1)*N] #in radians for cos functions\n",
    "    mean_theta = np.mean(theta)\n",
    "    polarisation.append((1/N) * np.abs(np.sum(theta))) #polarisation per frame\n",
    "    meanangle.append(np.cos(np.mean(theta)))\n",
    "\n",
    "#frames\n",
    "xdata = list(range(1,(np.size(time)//N)+1))"
   ]
  },
  {
   "cell_type": "code",
   "execution_count": null,
   "metadata": {},
   "outputs": [],
   "source": [
    "#meanangle\n",
    "plt.figure()\n",
    "plt.plot(xdata,meanangle)\n",
    "plt.xlabel('frame')\n",
    "plt.ylabel(r'cos(<$\\Theta$>)')\n",
    "plt.grid()\n",
    "plt.savefig(pathdata+'meanangle.png')\n",
    "plt.show()"
   ]
  },
  {
   "cell_type": "code",
   "execution_count": null,
   "metadata": {},
   "outputs": [],
   "source": [
    "#polarisation\n",
    "plt.figure()\n",
    "plt.plot(xdata,)\n",
    "plt.xlabel('frame')\n",
    "plt.ylabel(r'1/N $\\sum$(<$\\Theta$>)')\n",
    "plt.grid()\n",
    "plt.savefig(pathdata+'polarisation.png')\n",
    "plt.show()"
   ]
  },
  {
   "cell_type": "code",
   "execution_count": null,
   "metadata": {},
   "outputs": [],
   "source": [
    "sigma = N/(box_size)**2  #particle density\n",
    "polarisat = np.mean(polarisation) # polarisation"
   ]
  },
  {
   "cell_type": "markdown",
   "metadata": {},
   "source": [
    "script for all exe files in the folder \"output\""
   ]
  },
  {
   "cell_type": "code",
   "execution_count": null,
   "metadata": {},
   "outputs": [],
   "source": [
    "#change to current directory\n",
    "path = \"../output/\"\n",
    "\n",
    "#evaluate all .text files in folder\n",
    "import glob\n",
    "pathdata = glob.glob(path+\"*.txt\")\n",
    "\n",
    "#output\n",
    "rho = []\n",
    "eta = []\n",
    "polarisat = []\n",
    "\n",
    "for d in range(np.size(pathdata)):\n",
    "    time, agent_index, position_x, position_y, angles = np.loadtxt(path+pathdata[d],float,skiprows=9,unpack=True)\n",
    "    #extract input parameters from the txt file\n",
    "    lines = np.loadtxt(path+pathdata[d], dtype=str, skiprows=1, max_rows=8, unpack=True)\n",
    "    for l in lines:\n",
    "        exec(l)\n",
    "    #rename agent_number as N\n",
    "    N = agent_number\n",
    "    #movie\n",
    "    fig = plt.figure()\n",
    "    positions = plt.scatter(position_x[0:N],position_y[0:N],c=cm.hsv(angles[0:N]/(2*np.pi)))\n",
    "    plt.title(\"N = {}, velocity = {}, noise = {}, radius = {}\".format(N,velocity,noise_strength,neighborhood_radius))\n",
    "    text = plt.text(0,-2,\"Time: 0\")\n",
    "    #update function for movie\n",
    "    def update(i,positions,text):\n",
    "        #update(time, any further things which should be updated in animation)\n",
    "        positions.set_offsets(np.transpose([position_x[i*N:(i+1)*N],position_y[i*N:(i+1)*N]]))\n",
    "        positions.set_color(c=cm.jet(angles[i*N:(i+1)*N]/(2*np.pi)))\n",
    "        text.set_text(\"Time: {:.1f}\".format(time[i*N]))\n",
    "        return positions,text\n",
    "    #generate a movie\n",
    "    animation = anim.FuncAnimation(fig,update,np.size(time)//N,fargs=(positions,text),interval=100,blit=False,repeat=False)\n",
    "    #for MP4 files\n",
    "    Writer = anim.FFMpegWriter(fps=10, bitrate=1800)\n",
    "    plt.rcParams[\"animation.ffmpeg_path\"] = \"C:/Users/moniq/Dropbox/MA_1/MA_2_Physics-of-Life/project/evaluation/FFmpeg/bin/ffmpeg.exe\"\n",
    "    #save movie\n",
    "    animation.save(pathdata[d]+\".mp4\", writer=Writer)\n",
    "    plt.show()\n",
    "    #calculations\n",
    "    polarisation = []\n",
    "    meanangle = []\n",
    "    for i in range (np.size(time)//N):\n",
    "        theta = angles[i*N:(i+1)*N] #in radians for cos functions\n",
    "        mean_theta = np.mean(theta)\n",
    "        polarisation.append((1/N) * np.abs(np.sum(theta))) #polarisation per frame\n",
    "        meanangle.append(np.cos(np.mean(theta)))\n",
    "    #frames\n",
    "    xdata = list(range(1,(np.size(time)//N)+1))\n",
    "    #meanangle\n",
    "    plt.figure()\n",
    "    plt.plot(xdata,meanangle)\n",
    "    plt.xlabel('frame')\n",
    "    plt.ylabel(r'cos(<$\\Theta$>)')\n",
    "    plt.grid()\n",
    "    plt.savefig(pathdata[d]+'meanangle.png')\n",
    "    plt.show()\n",
    "    #polarisation\n",
    "    plt.figure()\n",
    "    plt.plot(xdata,polarisation)\n",
    "    plt.xlabel('frame')\n",
    "    plt.ylabel(r'1/N $\\sum$(<$\\Theta$>)')\n",
    "    plt.grid()\n",
    "    plt.savefig(pathdata[d]+'polarisation.png')\n",
    "    plt.show()\n",
    "    #further calculations\n",
    "    rho.append(N/(box_size)**2)  #particle density\n",
    "    polarisat.append(np.mean(polarisation)) # polarisation\n",
    "    eta.append(noise_strength)"
   ]
  },
  {
   "cell_type": "code",
   "execution_count": null,
   "metadata": {},
   "outputs": [],
   "source": [
    "#rho-polarisation-diagram\n",
    "plt.figure()\n",
    "plt.plot(rho,polarisat)\n",
    "plt.xlabel(r'particle density $\\rho$')\n",
    "plt.ylabel('polarisation |P|')\n",
    "plt.savefig(path+'density_polarisation.png')\n",
    "plt.show()"
   ]
  },
  {
   "cell_type": "code",
   "execution_count": null,
   "metadata": {},
   "outputs": [],
   "source": [
    "#eta-rho-plot\n",
    "plt.figure()\n",
    "plt.plot(rho,eta)\n",
    "plt.xlabel(r'particle density $\\rho$')\n",
    "plt.ylabel(r'noise strength $\\eta$')\n",
    "plt.savefig(path+'density_noise.png')\n",
    "plt.show()"
   ]
  },
  {
   "cell_type": "code",
   "execution_count": 4,
   "metadata": {},
   "outputs": [
    {
     "data": {
      "image/png": "[encoded data removed]",
      "text/plain": [
       "<Figure size 432x432 with 3 Axes>"
      ]
     },
     "metadata": {
      "needs_background": "light"
     },
     "output_type": "display_data"
    }
   ],
   "source": [
    "#import data from .txt file\n",
    "path = \"../output/\"\n",
    "pathdata = \"out_agntno_300_noistr_1.000000.txt\"\n",
    "time, agent_index, position_x, position_y, angles = np.loadtxt(path+pathdata,float,skiprows=9,unpack=True)\n",
    "#extract input parameters from the txt file\n",
    "lines = np.loadtxt(path+pathdata, dtype=str, skiprows=1, max_rows=8, unpack = True)\n",
    "for l in lines:\n",
    "    exec(l)\n",
    "#rename agent_number as N\n",
    "N = agent_number\n",
    "\n",
    "#for frame b\n",
    "b = 50\n",
    "i = b-1\n",
    "\n",
    "# the random data\n",
    "x = np.abs(position_x[i*N:(i+1)*N])\n",
    "y = np.abs(position_y[i*N:(i+1)*N])\n",
    "\n",
    "fig, axScatter = plt.subplots(figsize=(6, 6))\n",
    "\n",
    "# the scatter plot:\n",
    "axScatter.scatter(x, y)\n",
    "axScatter.set_aspect(1.)\n",
    "\n",
    "#new axes on right and on top of scattering plot\n",
    "divider = make_axes_locatable(axScatter)\n",
    "axHistx = divider.append_axes(\"top\", 1.2, pad=0.1, sharex=axScatter)\n",
    "axHisty = divider.append_axes(\"right\", 1.2, pad=0.1, sharey=axScatter)\n",
    "\n",
    "# make some labels invisible\n",
    "axHistx.xaxis.set_tick_params(labelbottom=False)\n",
    "axHisty.yaxis.set_tick_params(labelleft=False)\n",
    "\n",
    "#bins by hand\n",
    "bins = int(N/10)\n",
    "axHistx.hist(x, bins=bins)#,density=True)\n",
    "axHisty.hist(y,bins=bins, orientation='horizontal')#,density=True)\n",
    "\n",
    "#axHistx.set_yticks([0,1])\n",
    "#axHisty.set_xticks([0,1])\n",
    "plt.savefig(path+'scattering_density.png')\n",
    "\n",
    "plt.show()"
   ]
  },
  {
   "cell_type": "code",
   "execution_count": null,
   "metadata": {},
   "outputs": [],
   "source": []
  }
 ],
 "metadata": {
  "kernelspec": {
   "display_name": "Python 3",
   "language": "python",
   "name": "python3"
  },
  "language_info": {
   "codemirror_mode": {
    "name": "ipython",
    "version": 3
   },
   "file_extension": ".py",
   "mimetype": "text/x-python",
   "name": "python",
   "nbconvert_exporter": "python",
   "pygments_lexer": "ipython3",
   "version": "3.7.0"
  }
 },
 "nbformat": 4,
 "nbformat_minor": 2
}
